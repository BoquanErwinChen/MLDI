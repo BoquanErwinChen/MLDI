{
 "cells": [
  {
   "cell_type": "code",
   "execution_count": 1,
   "metadata": {},
   "outputs": [],
   "source": [
    "import numpy as np\n",
    "from numpy import random \n",
    "from matplotlib import pyplot as plt\n",
    "import pandas as pd\n",
    "from collections import Counter\n",
    "\n",
    "seed = 0\n",
    "random.seed(seed)"
   ]
  },
  {
   "cell_type": "code",
   "execution_count": 2,
   "metadata": {},
   "outputs": [],
   "source": [
    "df = pd.read_csv('proximian.csv')"
   ]
  },
  {
   "cell_type": "code",
   "execution_count": 3,
   "metadata": {},
   "outputs": [],
   "source": [
    "df.columns = np.array(['time', 'velocity', 'error'])\n",
    "df = df.sort_values(by=['time'])"
   ]
  },
  {
   "cell_type": "code",
   "execution_count": 4,
   "metadata": {},
   "outputs": [],
   "source": [
    "def sin_function(hyperparam, x=df.time):\n",
    "    \"\"\"\n",
    "    Functional form to estimate. \n",
    "    \n",
    "    Parameters\n",
    "    ----------\n",
    "    \n",
    "    x: array, shape = (n_samples, )\n",
    "        Input values\n",
    "    \n",
    "    hyperparam: array, shape = (3, )\n",
    "        Hyperparameters, P, K, phi\n",
    "    \n",
    "    Returns\n",
    "    -------\n",
    "    \n",
    "    y: array, shape = (n_samples, )\n",
    "        Output values from the specified functional form\n",
    "    \n",
    "    \"\"\"\n",
    "    \n",
    "    x = np.array(x)\n",
    "    P = hyperparam[0]\n",
    "    K = hyperparam[1]\n",
    "    phi = hyperparam[2]\n",
    "    y = K * np.sin(P*x + phi)\n",
    "    \n",
    "    return y"
   ]
  },
  {
   "cell_type": "code",
   "execution_count": 5,
   "metadata": {},
   "outputs": [],
   "source": [
    "def get_error(f_pred, obs=df.velocity):\n",
    "    \"\"\"\n",
    "    Calculate the error (sum of squares) between observed data and data given by the estimated function. \n",
    "    \n",
    "    Parameters\n",
    "    ----------\n",
    "    \n",
    "    obs: array, shape = (n_samples, )\n",
    "        Observed data. \n",
    "        \n",
    "    f_pred: array, shape = (n_samples, )\n",
    "        Data calculated according to the estimated function. \n",
    "        \n",
    "    Returns\n",
    "    -------\n",
    "    \n",
    "    ss: float\n",
    "        Sum of squares of difference between obs and func. \n",
    "    \"\"\"\n",
    "    \n",
    "    ss = np.sum(np.square(obs - f_pred))\n",
    "    \n",
    "    return ss\n",
    "    "
   ]
  },
  {
   "cell_type": "code",
   "execution_count": 6,
   "metadata": {},
   "outputs": [
    {
     "data": {
      "image/png": "[encoded data removed]",
      "text/plain": [
       "<Figure size 432x288 with 1 Axes>"
      ]
     },
     "metadata": {},
     "output_type": "display_data"
    }
   ],
   "source": [
    "fig, axes = plt.subplots()\n",
    "axes.errorbar(x=df['time'], y=df['velocity'], yerr=df['error'], fmt='o', label='Raw Data')\n",
    "axes.set_xlabel('Time (seconds)')\n",
    "axes.set_ylabel('Doppler Velocity (m/s)')\n",
    "axes.legend()\n",
    "plt.show()"
   ]
  },
  {
   "cell_type": "code",
   "execution_count": 7,
   "metadata": {},
   "outputs": [
    {
     "name": "stdout",
     "output_type": "stream",
     "text": [
      "Hyperparameters: [1.e+07 1.e+00 0.e+00]\n",
      "Error: 54.5633088200126\n",
      "Hyperparameters: [1.e+06 1.e-02 0.e+00]\n",
      "Error: 0.6623217450304874\n",
      "Hyperparameters: [5.00000000e+07 2.00000000e+00 3.14159265e+00]\n",
      "Error: 209.12908243515417\n"
     ]
    }
   ],
   "source": [
    "hyperparam_arr = np.array([[1e7, 1.0 , 0.0  ], \n",
    "                           [1e6, 0.01, 0.0  ], \n",
    "                           [5e7, 2.0 , np.pi]])\n",
    "\n",
    "for hyperparam in hyperparam_arr:\n",
    "    print('Hyperparameters: {}'.format(hyperparam))\n",
    "    print('Error: {}'.format(get_error(sin_function(hyperparam))))"
   ]
  },
  {
   "cell_type": "code",
   "execution_count": 8,
   "metadata": {},
   "outputs": [],
   "source": [
    "def evaluate(population, obs=df.velocity, x=df.time):\n",
    "    \"\"\"\n",
    "    Evaluate function for genetic algorithm. \n",
    "    \n",
    "    Parameters\n",
    "    ----------\n",
    "    \n",
    "    population: Dataframe\n",
    "        Population for genetic algorithm\n",
    "        \n",
    "    obs: array, shape = (n_samples, )\n",
    "        Observed data. \n",
    "        \n",
    "    x: array, shape = (n_samples, )\n",
    "        Input values\n",
    "        \n",
    "    Returns\n",
    "    -------\n",
    "    \n",
    "    population: Dataframe\n",
    "        Population dataframe with an added column named 'fitness', the negative error\n",
    "    \"\"\"\n",
    "    \n",
    "    hyperparam = np.array([population.P.values, population.K.values, population.phi.values]).T\n",
    "    fitness = np.array([-get_error(sin_function(hyperparam[i])) for i in range(hyperparam.shape[0])])\n",
    "    population['fitness'] = fitness\n",
    "    \n",
    "    return population"
   ]
  },
  {
   "cell_type": "code",
   "execution_count": 9,
   "metadata": {},
   "outputs": [],
   "source": [
    "def tournament(population, N_tournaments, win_rate=0.75):\n",
    "    \"\"\"\n",
    "    \n",
    "    Tournament to create the gene pool for a new population. \n",
    "    \n",
    "    Parameters\n",
    "    ----------\n",
    "    \n",
    "    population: Dataframe\n",
    "        Population for genetic algorithm.\n",
    "        \n",
    "    N_tournaments: int\n",
    "        Number of tournaments to be held.\n",
    "        \n",
    "    win_rate: float, within [0, 1)\n",
    "        The probability when a sample with better fitness wins\n",
    "        \n",
    "    Returns\n",
    "    -------\n",
    "    \n",
    "    gene_pool: Dataframe \n",
    "        Gene pool for a new generation \n",
    "    \n",
    "    \"\"\"\n",
    "    gene_pool = pd.DataFrame([], columns=population.columns)\n",
    "    for i in range(N_tournaments):\n",
    "        candidates = random.choice(len(population), 2)\n",
    "        rank = np.argsort(population.loc[candidates, 'fitness'].values)\n",
    "        if random.random(1) > win_rate:\n",
    "            winner = candidates[rank[0]]\n",
    "        else: \n",
    "            winner = candidates[rank[1]]\n",
    "        gene_pool = gene_pool.append(population.iloc[winner])\n",
    "    gene_pool = gene_pool.sample(frac=1)\n",
    "    gene_pool = gene_pool.reset_index(drop=True)\n",
    "    return gene_pool\n"
   ]
  },
  {
   "cell_type": "code",
   "execution_count": 10,
   "metadata": {},
   "outputs": [],
   "source": [
    "def crossover(gene_pool):\n",
    "    \"\"\"\n",
    "    Perform crossover among the gene pool to produce the new population\n",
    "    \n",
    "    Parameters\n",
    "    ----------\n",
    "    \n",
    "    gene_pool: Dataframe\n",
    "        The gene pool with which to create a new population\n",
    "        \n",
    "    Returns\n",
    "    -------\n",
    "    \n",
    "    new_population: Dataframe\n",
    "        A new generation created from crossing over genes from two samples in the gene pool\n",
    "    \n",
    "    \"\"\"\n",
    "    \n",
    "    new_population = pd.DataFrame(columns=gene_pool.columns)\n",
    "    # coin toss to determine which parent's gene to inherit\n",
    "    coin_toss = random.random((len(gene_pool)//2, 4)) > 0.5\n",
    "    coin_toss = coin_toss.astype(int)\n",
    "    # create a new sample by performing uniform crossover\n",
    "    for i in range(0, len(gene_pool), 2):\n",
    "        genes = gene_pool.iloc[i:i+2].values\n",
    "        # for the i//2-th child and j-th gene\n",
    "        child = np.array([genes[coin_toss[i//2][j]][j] for j in range(gene_pool.values.shape[1])])\n",
    "        child = pd.DataFrame(np.array([child]), columns=gene_pool.columns)\n",
    "        new_population = new_population.append(child)\n",
    "    # recalculate fitness and reindex\n",
    "    new_population = evaluate(new_population)\n",
    "    new_population = new_population.reset_index(drop=True)\n",
    "    return new_population "
   ]
  },
  {
   "cell_type": "code",
   "execution_count": 11,
   "metadata": {},
   "outputs": [],
   "source": [
    "def mutate(population, p):\n",
    "    \"\"\"\n",
    "    Perform mutation on the population. A number from a unit Gaussian distribution is drawn. The Gaussian noise is the \n",
    "    product of this number and the mean of the feature. \n",
    "    \n",
    "    Parameters\n",
    "    ----------\n",
    "    \n",
    "    population: Dataframe\n",
    "        Population for genetic algorithm.\n",
    "        \n",
    "    p: float\n",
    "        Probability of mutation\n",
    "        \n",
    "    Returns\n",
    "    -------\n",
    "    \n",
    "    population: Dataframe\n",
    "        Mutated population. \n",
    "    \n",
    "    \"\"\"\n",
    "    \n",
    "    # coin toss to determine which samples to mutate\n",
    "    coin_toss = random.random(len(population)) < p\n",
    "    coin_toss = coin_toss.astype(int)\n",
    "    mutate_index = np.where(coin_toss == 1)[0] # indices of mutating samples\n",
    "    N = np.sum(coin_toss, dtype=int) # number of mutating samples\n",
    "    # choose which gene to mutate for mutating samples\n",
    "    gene_index = random.choice(3, N)\n",
    "    # get gene labels for ease of apprehension\n",
    "    gene_label = np.array([population.columns.values[i] for i in gene_index])\n",
    "    # gaussian noise multiplier\n",
    "    gauss_noise = random.randn(N)\n",
    "    # add gaussian noise to mutating samples\n",
    "    for i in range(N):\n",
    "        population.loc[i, gene_label[i]] += gauss_noise[i]*np.ptp(population[gene_label[i]])/50.\n",
    "    # recalculate fitness and reindex\n",
    "    population = evaluate(population)\n",
    "    population = population.reset_index(drop=True)\n",
    "    return population \n",
    "    "
   ]
  },
  {
   "cell_type": "code",
   "execution_count": 12,
   "metadata": {},
   "outputs": [],
   "source": [
    "def genetic_algorithm(population, win_rate, p, n_runs):\n",
    "    \"\"\"\n",
    "    Generator for runing genetic algorithm. \n",
    "    \n",
    "    Parameters\n",
    "    ----------\n",
    "    \n",
    "    population: Dataframe\n",
    "        Initial population\n",
    "    \n",
    "    win_rate: float, within (0, 1]\n",
    "        Probability that the sample with better fitness wins\n",
    "        \n",
    "    p: float, within (0, 1]\n",
    "        Probability that a sample mutates\n",
    "        \n",
    "    n_runs: int\n",
    "        Number of times/generations to run genetic algorithm\n",
    "        \n",
    "    Yields\n",
    "    ------\n",
    "    \n",
    "    best: array, shape = (4, )\n",
    "        The best sample within one generation\n",
    "    \"\"\"\n",
    "    \n",
    "    for i in range(n_runs):\n",
    "        gene_pool = tournament(population, int(len(population)*2), win_rate=win_rate)\n",
    "        population = crossover(gene_pool)\n",
    "        population = mutate(population, p)\n",
    "        best = population.iloc[population.fitness.values.argmax()].values\n",
    "        if (i+1)%10 == 0:\n",
    "            print('{}%'.format(i+1))\n",
    "        yield best"
   ]
  },
  {
   "cell_type": "code",
   "execution_count": 24,
   "metadata": {},
   "outputs": [
    {
     "name": "stdout",
     "output_type": "stream",
     "text": [
      "10%\n",
      "20%\n",
      "30%\n",
      "40%\n",
      "50%\n",
      "60%\n",
      "70%\n",
      "80%\n",
      "90%\n",
      "100%\n",
      "Wall time: 4min 45s\n"
     ]
    }
   ],
   "source": [
    "%%time\n",
    "\n",
    "P_arr = np.linspace(1e7, 1e8, 20)\n",
    "K_arr = np.linspace(0, 0.2, 5)\n",
    "phi_arr = np.linspace(0, 2.0*np.pi, 5)\n",
    "population = np.array([[P, K, phi] for P in P_arr for K in K_arr for phi in phi_arr])\n",
    "population = pd.DataFrame(population, columns=['P', 'K', 'phi'])\n",
    "population = evaluate(population)\n",
    "best_arr = [] \n",
    "for best in genetic_algorithm(population, 0.95, 0.1, 100):\n",
    "    best_arr.append(best)\n",
    "best_arr = np.array(best_arr)"
   ]
  },
  {
   "cell_type": "markdown",
   "metadata": {},
   "source": [
    "| Seed | P    | K    | $\\phi$ | Fitness |\n",
    "|------|------|------|--------|---------|\n",
    "|   0  |30158953.60|0.05|2.83|-0.39|\n",
    "|   1  |29773736.13|0.06|2.91|-0.37|\n",
    "|   2  |30146317.80|0.06|2.82|-0.37|"
   ]
  },
  {
   "cell_type": "code",
   "execution_count": 26,
   "metadata": {},
   "outputs": [
    {
     "data": {
      "image/png": "[encoded data removed]",
      "text/plain": [
       "<Figure size 432x288 with 1 Axes>"
      ]
     },
     "metadata": {},
     "output_type": "display_data"
    }
   ],
   "source": [
    "fig, axes = plt.subplots()\n",
    "axes.plot(best_arr[:,3])\n",
    "axes.set_xlabel('Generation Index')\n",
    "axes.set_ylabel('Fitness')\n",
    "axes.set_title('Seed {}'.format(seed))\n",
    "plt.show()"
   ]
  },
  {
   "cell_type": "code",
   "execution_count": 27,
   "metadata": {},
   "outputs": [
    {
     "name": "stdout",
     "output_type": "stream",
     "text": [
      "Fittest individual appears in the 98-th generation: P=30158953.60, K=0.05, phi=2.83, error=0.39\n"
     ]
    }
   ],
   "source": [
    "fittest = best_arr[np.argmax(best_arr[:,3])]\n",
    "print('Fittest individual appears in the {}-th generation: P={:.2f}, K={:.2f}, phi={:.2f}, error={:.2f}'.format(\n",
    "    np.argmax(best_arr[:,3]), fittest[0], fittest[1], fittest[2], -fittest[3]))"
   ]
  },
  {
   "cell_type": "code",
   "execution_count": 28,
   "metadata": {},
   "outputs": [
    {
     "data": {
      "image/png": "[encoded data removed]",
      "text/plain": [
       "<Figure size 432x288 with 1 Axes>"
      ]
     },
     "metadata": {},
     "output_type": "display_data"
    }
   ],
   "source": [
    "fig, axes = plt.subplots()\n",
    "axes.errorbar(x=df['time'], y=df['velocity'], yerr=df['error'], fmt='o', label='Raw Data')\n",
    "axes.plot(df['time'], sin_function(best_arr[np.argmax(best_arr[:,3])][:3]), label='Predicted')\n",
    "axes.set_xlabel('Time (seconds)')\n",
    "axes.set_ylabel('Doppler Velocity (m/s)')\n",
    "axes.legend()\n",
    "plt.show()"
   ]
  },
  {
   "cell_type": "code",
   "execution_count": null,
   "metadata": {},
   "outputs": [],
   "source": []
  }
 ],
 "metadata": {
  "kernelspec": {
   "display_name": "Python 3",
   "language": "python",
   "name": "python3"
  },
  "language_info": {
   "codemirror_mode": {
    "name": "ipython",
    "version": 3
   },
   "file_extension": ".py",
   "mimetype": "text/x-python",
   "name": "python",
   "nbconvert_exporter": "python",
   "pygments_lexer": "ipython3",
   "version": "3.6.5"
  }
 },
 "nbformat": 4,
 "nbformat_minor": 2
}
